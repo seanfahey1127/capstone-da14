{
 "cells": [
  {
   "cell_type": "code",
   "execution_count": 1,
   "id": "1c388dcf-fbd4-40f1-a01c-f302a8f589e5",
   "metadata": {},
   "outputs": [],
   "source": [
    "import pandas as pd\n",
    "import numpy as np\n",
    "import matplotlib.pyplot as plt\n",
    "import seaborn as sns\n",
    "import folium\n",
    "from IPython.display import display"
   ]
  },
  {
   "cell_type": "code",
   "execution_count": 21,
   "id": "188c2f32-9efe-4e30-a079-2d65c368c81f",
   "metadata": {},
   "outputs": [
    {
     "name": "stderr",
     "output_type": "stream",
     "text": [
      "C:\\Users\\seanf\\AppData\\Local\\Temp\\ipykernel_32100\\3093040919.py:2: DtypeWarning: Columns (5,23) have mixed types. Specify dtype option on import or set low_memory=False.\n",
      "  noaa_df = pd.read_csv(\"../data/Detailed Crab Data From NOAA Fisheries Service Annual Eastern Bering Sea Summer Bottom Trawl Surveys 1975 - 2018.csv\")\n"
     ]
    }
   ],
   "source": [
    "armistead_df = pd.read_csv(\"../data/Armistead; 1975 - 2017 eastern Bering Sea Crab Distribution For Web.csv\")\n",
    "noaa_df = pd.read_csv(\"../data/Detailed Crab Data From NOAA Fisheries Service Annual Eastern Bering Sea Summer Bottom Trawl Surveys 1975 - 2018.csv\")\n",
    "species_df = pd.read_csv(\"../data/crab_species.csv\")"
   ]
  },
  {
   "cell_type": "code",
   "execution_count": 22,
   "id": "92b8e895-06a1-4f6c-8b02-2c3c91459660",
   "metadata": {},
   "outputs": [],
   "source": [
    "species_df_clean = species_df.rename(columns={'species_number': 'species_code','species_name': 'common_name'})"
   ]
  },
  {
   "cell_type": "code",
   "execution_count": 23,
   "id": "69a2356f-7d58-46fb-9f14-4d08d5b033c5",
   "metadata": {},
   "outputs": [],
   "source": [
    "armistead_df['common_name'] = armistead_df['common_name'].replace({'hair crab': 'horsehair crab','southern Tanner crab': 'Tanner crab'})"
   ]
  },
  {
   "cell_type": "code",
   "execution_count": 24,
   "id": "7af0ea23-fd93-496f-b7c4-8241cd3751cf",
   "metadata": {},
   "outputs": [],
   "source": [
    "armistead_df = armistead_df.merge(species_df_clean, on='common_name', how='left')"
   ]
  },
  {
   "cell_type": "code",
   "execution_count": 25,
   "id": "761fa59e-2d9b-400b-92e1-55fc6dae0e00",
   "metadata": {},
   "outputs": [],
   "source": [
    "noaa_df = noaa_df.merge(species_df_clean, on='species_code', how='left')"
   ]
  },
  {
   "cell_type": "code",
   "execution_count": 28,
   "id": "a89f281e-13ab-47ed-aa87-3759bd056fb5",
   "metadata": {},
   "outputs": [],
   "source": [
    "#species_df_clean.to_csv(\"/DA14/Capstones/capstone-da14/data/crab_species_clean.csv\", index=False)"
   ]
  },
  {
   "cell_type": "code",
   "execution_count": 32,
   "id": "3b934062-3d6c-4c30-b72d-585bb9d6e665",
   "metadata": {},
   "outputs": [],
   "source": [
    "#noaa_df.to_csv(\"/DA14/Capstones/capstone-da14/data/noaa_df_new.csv\", index=False)"
   ]
  },
  {
   "cell_type": "code",
   "execution_count": 33,
   "id": "78c76dd2-84ae-4834-b9a3-5f2108bfe0ff",
   "metadata": {},
   "outputs": [],
   "source": [
    "#armistead_df.to_csv(\"/DA14/Capstones/capstone-da14/data/armistead_df_new.csv\", index=False)"
   ]
  },
  {
   "cell_type": "code",
   "execution_count": null,
   "id": "5ed96e93-dcf3-47b1-859d-3a75cd4ec524",
   "metadata": {},
   "outputs": [],
   "source": []
  }
 ],
 "metadata": {
  "kernelspec": {
   "display_name": "Python 3 (ipykernel)",
   "language": "python",
   "name": "python3"
  },
  "language_info": {
   "codemirror_mode": {
    "name": "ipython",
    "version": 3
   },
   "file_extension": ".py",
   "mimetype": "text/x-python",
   "name": "python",
   "nbconvert_exporter": "python",
   "pygments_lexer": "ipython3",
   "version": "3.12.7"
  }
 },
 "nbformat": 4,
 "nbformat_minor": 5
}
