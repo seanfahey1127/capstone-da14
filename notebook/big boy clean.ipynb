{
 "cells": [
  {
   "cell_type": "code",
   "execution_count": 1,
   "id": "877c4c93-ae4e-4d01-9649-cdcf4d37e7ca",
   "metadata": {},
   "outputs": [],
   "source": [
    "import pandas as pd\n",
    "import numpy as np\n",
    "import matplotlib.pyplot as plt\n",
    "import seaborn as sns\n",
    "import folium\n",
    "from IPython.display import display"
   ]
  },
  {
   "cell_type": "code",
   "execution_count": 2,
   "id": "35e26747-d97b-4dd0-a97f-83749b5debad",
   "metadata": {},
   "outputs": [
    {
     "name": "stderr",
     "output_type": "stream",
     "text": [
      "C:\\Users\\seanf\\AppData\\Local\\Temp\\ipykernel_32080\\1424024770.py:2: DtypeWarning: Columns (5,23) have mixed types. Specify dtype option on import or set low_memory=False.\n",
      "  noaa_df = pd.read_csv(\"../data/noaa_df_new.csv\")\n"
     ]
    }
   ],
   "source": [
    "armistead_df = pd.read_csv(\"../data/armistead_df_new.csv\")\n",
    "noaa_df = pd.read_csv(\"../data/noaa_df_new.csv\")\n",
    "species_df = pd.read_csv(\"../data/crab_species_clean.csv\")"
   ]
  },
  {
   "cell_type": "code",
   "execution_count": 4,
   "id": "3f4d99c8-8f29-4ef3-b5ba-59ef0f56a45d",
   "metadata": {},
   "outputs": [],
   "source": [
    "#armistead_df['year'] = armistead_df['survey_year']"
   ]
  },
  {
   "cell_type": "code",
   "execution_count": 6,
   "id": "c6e99134-607c-456b-80dd-a5d6fdff85fe",
   "metadata": {},
   "outputs": [],
   "source": [
    "#noaa_df['year'] = noaa_df['cruise'].astype(str).str[:4].astype(int)"
   ]
  },
  {
   "cell_type": "code",
   "execution_count": 10,
   "id": "6ebe19dc-6619-4543-a2bf-e1dd47cb1b0b",
   "metadata": {},
   "outputs": [],
   "source": [
    "#noaa_df.to_csv(\"/DA14/Capstones/capstone-da14/data/noaa_df_new_new.csv\", index=False)"
   ]
  },
  {
   "cell_type": "code",
   "execution_count": 11,
   "id": "58ef8c47-2fa0-48be-82d4-61dfe45d6ef9",
   "metadata": {},
   "outputs": [],
   "source": [
    "#rmistead_df.to_csv(\"/DA14/Capstones/capstone-da14/data/armistead_df_new_new.csv\", index=False)"
   ]
  }
 ],
 "metadata": {
  "kernelspec": {
   "display_name": "Python 3 (ipykernel)",
   "language": "python",
   "name": "python3"
  },
  "language_info": {
   "codemirror_mode": {
    "name": "ipython",
    "version": 3
   },
   "file_extension": ".py",
   "mimetype": "text/x-python",
   "name": "python",
   "nbconvert_exporter": "python",
   "pygments_lexer": "ipython3",
   "version": "3.12.7"
  }
 },
 "nbformat": 4,
 "nbformat_minor": 5
}
