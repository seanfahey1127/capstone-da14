{
 "cells": [
  {
   "cell_type": "code",
   "execution_count": 8,
   "id": "64bade58-d75f-4055-82a6-7b4fce64177b",
   "metadata": {},
   "outputs": [],
   "source": [
    "# pip install \"camelot-py[cv]\""
   ]
  },
  {
   "cell_type": "code",
   "execution_count": 9,
   "id": "af86b249-925f-4d2e-95ac-2fc8d3a8b88b",
   "metadata": {},
   "outputs": [],
   "source": [
    "import camelot"
   ]
  },
  {
   "cell_type": "code",
   "execution_count": 11,
   "id": "d1470a01-7eb8-46e7-9afe-72ff087106a5",
   "metadata": {},
   "outputs": [
    {
     "name": "stderr",
     "output_type": "stream",
     "text": [
      "C:\\Users\\seanf\\anaconda3\\Lib\\site-packages\\camelot\\parsers\\base.py:218: UserWarning: No tables found on page-67\n",
      "  if self._document_has_no_text():\n"
     ]
    },
    {
     "name": "stdout",
     "output_type": "stream",
     "text": [
      "                     0                                                 1  \\\n",
      "0                                        Alaska Fisheries Science Center   \n",
      "1                       Resource Assessment and Conservation Engineering   \n",
      "2                                                                          \n",
      "3    GROUNDFISH SURVEY                                                     \n",
      "4  SPECIES CODE MANUAL                                                     \n",
      "\n",
      "            2  \n",
      "0              \n",
      "1              \n",
      "2  APRIL 2024  \n",
      "3              \n",
      "4              \n"
     ]
    },
    {
     "name": "stderr",
     "output_type": "stream",
     "text": [
      "C:\\Users\\seanf\\anaconda3\\Lib\\site-packages\\camelot\\parsers\\base.py:238: UserWarning: No tables found in table area (21.89999999999999, 24.043999999999997, 143.9798, 340.748)\n",
      "  cols, rows, v_s, h_s = self._generate_columns_and_rows(bbox, user_cols)\n"
     ]
    }
   ],
   "source": [
    "file_path = \"/DA14/Capstones/capstone-da14/data/species-code-manual.pdf\"\n",
    "\n",
    "tables = camelot.read_pdf(file_path, pages='all', flavor='stream')\n",
    "print(tables[0].df.head())"
   ]
  }
 ],
 "metadata": {
  "kernelspec": {
   "display_name": "Python 3 (ipykernel)",
   "language": "python",
   "name": "python3"
  },
  "language_info": {
   "codemirror_mode": {
    "name": "ipython",
    "version": 3
   },
   "file_extension": ".py",
   "mimetype": "text/x-python",
   "name": "python",
   "nbconvert_exporter": "python",
   "pygments_lexer": "ipython3",
   "version": "3.12.7"
  }
 },
 "nbformat": 4,
 "nbformat_minor": 5
}
