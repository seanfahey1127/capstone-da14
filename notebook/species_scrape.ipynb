{
 "cells": [
  {
   "cell_type": "code",
   "execution_count": 1,
   "id": "f25f63bb-f08b-40ab-8eac-098eb3a2223a",
   "metadata": {},
   "outputs": [],
   "source": [
    "import requests\n",
    "from bs4 import BeautifulSoup\n",
    "import pandas as pd\n",
    "import re"
   ]
  },
  {
   "cell_type": "code",
   "execution_count": 2,
   "id": "cce5dd16-43fc-4f24-9de7-ccf519df21ad",
   "metadata": {},
   "outputs": [],
   "source": [
    "url = \"https://www.fisheries.noaa.gov/s3/2024-04/species-code-manual.pdf\"\n",
    "response = requests.get(url)"
   ]
  },
  {
   "cell_type": "code",
   "execution_count": 3,
   "id": "e09d64aa-704b-4cbf-ab07-d2d3e11d3086",
   "metadata": {},
   "outputs": [
    {
     "data": {
      "text/plain": [
       "200"
      ]
     },
     "execution_count": 3,
     "metadata": {},
     "output_type": "execute_result"
    }
   ],
   "source": [
    "response.status_code"
   ]
  },
  {
   "cell_type": "code",
   "execution_count": 4,
   "id": "7d0af112-d36d-4ff2-9896-65be223f14ea",
   "metadata": {},
   "outputs": [],
   "source": [
    "soup = BeautifulSoup(response.text)"
   ]
  },
  {
   "cell_type": "code",
   "execution_count": 8,
   "id": "94b422d3-dc53-4752-a844-08558e2b8721",
   "metadata": {},
   "outputs": [],
   "source": [
    "soup.find('h2')"
   ]
  }
 ],
 "metadata": {
  "kernelspec": {
   "display_name": "Python 3 (ipykernel)",
   "language": "python",
   "name": "python3"
  },
  "language_info": {
   "codemirror_mode": {
    "name": "ipython",
    "version": 3
   },
   "file_extension": ".py",
   "mimetype": "text/x-python",
   "name": "python",
   "nbconvert_exporter": "python",
   "pygments_lexer": "ipython3",
   "version": "3.12.7"
  }
 },
 "nbformat": 4,
 "nbformat_minor": 5
}
